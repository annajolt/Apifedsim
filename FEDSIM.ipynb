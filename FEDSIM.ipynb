{
 "cells": [
  {
   "cell_type": "code",
   "execution_count": 1,
   "id": "40a98277-eed6-4950-9145-24e1f2aea5e7",
   "metadata": {},
   "outputs": [],
   "source": [
    "#imports\n",
    "\n",
    "import numpy as np\n",
    "import pandas as pd\n",
    "import os\n",
    "import yfinance as yf\n",
    "import datetime as dt\n",
    "import questionary"
   ]
  },
  {
   "cell_type": "code",
   "execution_count": null,
   "id": "14727dec-74a4-4f08-a8f8-d8e7216411a7",
   "metadata": {},
   "outputs": [],
   "source": [
    "# prompts users to select token for simulation\n",
    "questionary.select(\n",
    "    \"hello, what token would you like to look into?\",\n",
    "    choices=[\n",
    "        'btc',\n",
    "        'eth',\n",
    "        'ada',\n",
    "        'luna1',\n",
    "        'bnb'\n",
    "    ]).ask() "
   ]
  },
  {
   "cell_type": "code",
   "execution_count": null,
   "id": "6c38e024-530d-4ce9-b583-07c7d3d8406b",
   "metadata": {},
   "outputs": [],
   "source": [
    "# prompts simulation length\n",
    "questionary.select(\n",
    "    \"how long would you like to run your forecast?\"\n",
    "    choices=[\n",
    "        '1 year',\n",
    "        '3 years',\n",
    "        '5 years'\n",
    "    ]).ask()\n",
    "\n",
    "\n",
    "# Not sure how to integrate questionary into the actual application"
   ]
  },
  {
   "cell_type": "code",
   "execution_count": null,
   "id": "7af52d71-0a01-400c-8bab-50a655c12efd",
   "metadata": {},
   "outputs": [],
   "source": [
    "# import token history from API Download here\n",
    "\n",
    "\n",
    "\n",
    "limit_rows=1000"
   ]
  },
  {
   "cell_type": "code",
   "execution_count": null,
   "id": "2f9b4040-abd3-4933-8e71-7e9e3fc802e3",
   "metadata": {},
   "outputs": [],
   "source": [
    "#We can also incorporate a weighting system to evaluate 2 coins at once; not sure how to format questionary to suit this"
   ]
  },
  {
   "cell_type": "code",
   "execution_count": null,
   "id": "ba8aa160-ece8-4af6-8702-b98a49a1cf0d",
   "metadata": {},
   "outputs": [],
   "source": [
    "# MC simulations (1, 3, or 5 years based off user selection) 'prices_df' = API download dataframe\n",
    "# link questionary ask results with selecting simulation length\n",
    "MC_1 = MCSimulation(portfolio_data = prices_df['btc'], num_simulation = 500, num_trading_days = 252) # 1 year simualtion\n",
    "MC_3 = MCSimulation(portfolio_data = prices_df['btc'], num_simulation = 500, num_trading_days = 252 * 3) # 3 year sim\n",
    "MC_5 = MCSimulation(portfolio_data = prices_df['btc'], num_simulation = 500, num_trading_days = 252 * 5) # 5 year sim\n",
    "\n",
    "# view input data\n",
    "MC_1.potfolio_data.head()"
   ]
  },
  {
   "cell_type": "code",
   "execution_count": null,
   "id": "ae82c051-8835-41a3-9093-d72d2b5fdf6d",
   "metadata": {},
   "outputs": [],
   "source": [
    "# run sim\n",
    "MC_1.calc_cumulative_return()"
   ]
  },
  {
   "cell_type": "code",
   "execution_count": null,
   "id": "a8bf45c4-f9c7-41fa-b94c-4a5043d2f8eb",
   "metadata": {},
   "outputs": [],
   "source": [
    "# print a line plot\n",
    "sim_line_plot = MC_1.plot_simulation()"
   ]
  },
  {
   "cell_type": "code",
   "execution_count": null,
   "id": "e338633b-4f9b-4139-96e5-5fb308d4000e",
   "metadata": {},
   "outputs": [],
   "source": [
    "# print a probablility distribution\n",
    "sim_dist_plot = MC_1.plot_distribution()"
   ]
  },
  {
   "cell_type": "code",
   "execution_count": null,
   "id": "35099847-2bcd-4299-bc32-87bf749a4c7f",
   "metadata": {},
   "outputs": [],
   "source": [
    "# print a summary of simulation statistic results\n",
    "summary_stats = MC_1.summarize_cumulative_return()"
   ]
  },
  {
   "cell_type": "code",
   "execution_count": null,
   "id": "1caa3291-a7bb-4e02-9ede-bdc1f69ff03a",
   "metadata": {},
   "outputs": [],
   "source": [
    "# prompts users to either add a coin to the portfolio & re-run sim as a weighted sim\n",
    "questionary.select(\n",
    "    \"Would you like to add a coin to your simulated portfolio?\"\n",
    "    choices=[\n",
    "        'yes',\n",
    "        'no'\n",
    "    ]).ask()\n"
   ]
  },
  {
   "cell_type": "code",
   "execution_count": null,
   "id": "e24aabdb-1b58-47df-927b-3604f4b358f6",
   "metadata": {},
   "outputs": [],
   "source": [
    "# prompts user to select new coin (is there a way to remove the option aready selected?)\n",
    "questionary.select(\n",
    "    \"What coin would you like to add to your portfolio?\"\n",
    "    choices=[\n",
    "        'btc',\n",
    "        'eth',\n",
    "        'ada',\n",
    "        'luna1',\n",
    "        'bnb'\n",
    "    ]).ask()"
   ]
  },
  {
   "cell_type": "code",
   "execution_count": null,
   "id": "a8349cb1-b177-4441-929a-8dc3717c77a5",
   "metadata": {},
   "outputs": [],
   "source": [
    "# prompts users to select a new timeframe\n",
    "questionary.select(\n",
    "    \"How long would you like to run your new weighted simulation?\"\n",
    "    choices=[\n",
    "        '1 year',\n",
    "        '3 years',\n",
    "        '5 years'\n",
    "    ]).ask()"
   ]
  },
  {
   "cell_type": "code",
   "execution_count": null,
   "id": "54041049-c5e5-426c-9962-76989cb311b6",
   "metadata": {},
   "outputs": [],
   "source": [
    "# runs new weighted sim legths\n",
    "MC_weighted_1 = MCSimulation(portfolio_data = prices_df['btc', 'eth'], weights = [.60,.40], num_simulation = 500, num_trading_days = 252)\n",
    "MC_weighted_3 = MCSimulation(portfolio_data = prices_df['btc', 'eth'], weights = [.60,.40], num_simulation = 500, num_trading_days = 252 * 3)\n",
    "MC_weighted_5 = MCSimulation(portfolio_data = prices_df['btc', 'eth'], weights = [.60,.40], num_simulation = 500, num_trading_days = 252 * 5)\n",
    "\n",
    "# view input data\n",
    "MC_weighted_1.potfolio_data.head()"
   ]
  },
  {
   "cell_type": "code",
   "execution_count": null,
   "id": "488ad23f-2ba6-46b0-a08f-fedb019917b7",
   "metadata": {},
   "outputs": [],
   "source": [
    "# run sim\n",
    "MC_weighted_1.calc_cumulative_return()"
   ]
  },
  {
   "cell_type": "code",
   "execution_count": null,
   "id": "a1cfafbd-cea2-458e-bad9-650938891470",
   "metadata": {},
   "outputs": [],
   "source": [
    "# print a line plot\n",
    "weighted_sim_line_plot = MC_1.plot_simulation()"
   ]
  },
  {
   "cell_type": "code",
   "execution_count": null,
   "id": "401d71db-770b-4ac2-a523-7f2a993b9c9a",
   "metadata": {},
   "outputs": [],
   "source": [
    "# print a probablility distribution\n",
    "weigthed_sim_dist_plot = MC_1.plot_distribution()"
   ]
  },
  {
   "cell_type": "code",
   "execution_count": null,
   "id": "1b202d07-f335-428d-9b6b-70056293f9ca",
   "metadata": {},
   "outputs": [],
   "source": [
    "# print a summary of simulation statistic results\n",
    "weighted_summary_stats = MC_1.summarize_cumulative_return()"
   ]
  },
  {
   "cell_type": "code",
   "execution_count": null,
   "id": "9dff6cbf-1752-4cc9-b9af-2cf94b9dcceb",
   "metadata": {},
   "outputs": [],
   "source": []
  }
 ],
 "metadata": {
  "kernelspec": {
   "display_name": "Python 3 (ipykernel)",
   "language": "python",
   "name": "python3"
  },
  "language_info": {
   "codemirror_mode": {
    "name": "ipython",
    "version": 3
   },
   "file_extension": ".py",
   "mimetype": "text/x-python",
   "name": "python",
   "nbconvert_exporter": "python",
   "pygments_lexer": "ipython3",
   "version": "3.9.7"
  }
 },
 "nbformat": 4,
 "nbformat_minor": 5
}
