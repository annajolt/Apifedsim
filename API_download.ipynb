{
 "cells": [
  {
   "cell_type": "code",
   "execution_count": 1,
   "id": "840b595d-6df8-4d02-a6b2-e24c5a0456da",
   "metadata": {},
   "outputs": [],
   "source": [
    "# https://pypi.org/project/yfinance/\n",
    "# pip install yfinance in terminal\n",
    "import yfinance as yf\n",
    "import pandas as pd"
   ]
  },
  {
   "cell_type": "code",
   "execution_count": 2,
   "id": "2d58ccb2-8230-4dbd-ad73-5c6e56a965cc",
   "metadata": {},
   "outputs": [],
   "source": [
    "#create yahoo finance objects\n",
    "\n",
    "btc = yf.Ticker(\"BTC-USD\") # bitcoin\n",
    "eth = yf.Ticker(\"ETH-USD\") # ethereum\n",
    "luna1 = yf.Ticker(\"LUNA1-USD\") # terra\n",
    "bnb = yf.Ticker(\"BNB-USD\") # binance\n",
    "ada = yf.Ticker(\"ADA-USD\") # cardano"
   ]
  },
  {
   "cell_type": "code",
   "execution_count": 3,
   "id": "ff2c58ed-d311-4337-bfb6-7023f5b55b2a",
   "metadata": {},
   "outputs": [
    {
     "data": {
      "text/html": [
       "<div>\n",
       "<style scoped>\n",
       "    .dataframe tbody tr th:only-of-type {\n",
       "        vertical-align: middle;\n",
       "    }\n",
       "\n",
       "    .dataframe tbody tr th {\n",
       "        vertical-align: top;\n",
       "    }\n",
       "\n",
       "    .dataframe thead th {\n",
       "        text-align: right;\n",
       "    }\n",
       "</style>\n",
       "<table border=\"1\" class=\"dataframe\">\n",
       "  <thead>\n",
       "    <tr style=\"text-align: right;\">\n",
       "      <th></th>\n",
       "      <th>btc</th>\n",
       "      <th>eth</th>\n",
       "      <th>luna1</th>\n",
       "      <th>bnb</th>\n",
       "      <th>ada</th>\n",
       "    </tr>\n",
       "    <tr>\n",
       "      <th>Date</th>\n",
       "      <th></th>\n",
       "      <th></th>\n",
       "      <th></th>\n",
       "      <th></th>\n",
       "      <th></th>\n",
       "    </tr>\n",
       "  </thead>\n",
       "  <tbody>\n",
       "    <tr>\n",
       "      <th>2020-05-05</th>\n",
       "      <td>9003.070312</td>\n",
       "      <td>206.774399</td>\n",
       "      <td>0.189789</td>\n",
       "      <td>16.919775</td>\n",
       "      <td>0.049358</td>\n",
       "    </tr>\n",
       "    <tr>\n",
       "      <th>2020-05-06</th>\n",
       "      <td>9268.761719</td>\n",
       "      <td>204.055786</td>\n",
       "      <td>0.215561</td>\n",
       "      <td>16.657045</td>\n",
       "      <td>0.049767</td>\n",
       "    </tr>\n",
       "    <tr>\n",
       "      <th>2020-05-07</th>\n",
       "      <td>9951.518555</td>\n",
       "      <td>212.289413</td>\n",
       "      <td>0.194879</td>\n",
       "      <td>17.013199</td>\n",
       "      <td>0.051106</td>\n",
       "    </tr>\n",
       "    <tr>\n",
       "      <th>2020-05-08</th>\n",
       "      <td>9842.666016</td>\n",
       "      <td>212.991577</td>\n",
       "      <td>0.193898</td>\n",
       "      <td>17.241476</td>\n",
       "      <td>0.052303</td>\n",
       "    </tr>\n",
       "    <tr>\n",
       "      <th>2020-05-09</th>\n",
       "      <td>9593.896484</td>\n",
       "      <td>211.600128</td>\n",
       "      <td>0.191507</td>\n",
       "      <td>16.935961</td>\n",
       "      <td>0.051736</td>\n",
       "    </tr>\n",
       "    <tr>\n",
       "      <th>...</th>\n",
       "      <td>...</td>\n",
       "      <td>...</td>\n",
       "      <td>...</td>\n",
       "      <td>...</td>\n",
       "      <td>...</td>\n",
       "    </tr>\n",
       "    <tr>\n",
       "      <th>2022-05-01</th>\n",
       "      <td>38469.093750</td>\n",
       "      <td>2827.756104</td>\n",
       "      <td>82.239548</td>\n",
       "      <td>390.281982</td>\n",
       "      <td>0.790344</td>\n",
       "    </tr>\n",
       "    <tr>\n",
       "      <th>2022-05-02</th>\n",
       "      <td>38529.328125</td>\n",
       "      <td>2857.410400</td>\n",
       "      <td>84.309166</td>\n",
       "      <td>389.670654</td>\n",
       "      <td>0.781529</td>\n",
       "    </tr>\n",
       "    <tr>\n",
       "      <th>2022-05-03</th>\n",
       "      <td>37750.453125</td>\n",
       "      <td>2783.476318</td>\n",
       "      <td>82.594147</td>\n",
       "      <td>383.475800</td>\n",
       "      <td>0.771145</td>\n",
       "    </tr>\n",
       "    <tr>\n",
       "      <th>2022-05-04</th>\n",
       "      <td>39698.371094</td>\n",
       "      <td>2940.644775</td>\n",
       "      <td>86.172264</td>\n",
       "      <td>402.502655</td>\n",
       "      <td>0.896942</td>\n",
       "    </tr>\n",
       "    <tr>\n",
       "      <th>2022-05-05</th>\n",
       "      <td>39718.496094</td>\n",
       "      <td>2941.800049</td>\n",
       "      <td>86.917023</td>\n",
       "      <td>402.679596</td>\n",
       "      <td>0.878779</td>\n",
       "    </tr>\n",
       "  </tbody>\n",
       "</table>\n",
       "<p>731 rows × 5 columns</p>\n",
       "</div>"
      ],
      "text/plain": [
       "                     btc          eth      luna1         bnb       ada\n",
       "Date                                                                  \n",
       "2020-05-05   9003.070312   206.774399   0.189789   16.919775  0.049358\n",
       "2020-05-06   9268.761719   204.055786   0.215561   16.657045  0.049767\n",
       "2020-05-07   9951.518555   212.289413   0.194879   17.013199  0.051106\n",
       "2020-05-08   9842.666016   212.991577   0.193898   17.241476  0.052303\n",
       "2020-05-09   9593.896484   211.600128   0.191507   16.935961  0.051736\n",
       "...                  ...          ...        ...         ...       ...\n",
       "2022-05-01  38469.093750  2827.756104  82.239548  390.281982  0.790344\n",
       "2022-05-02  38529.328125  2857.410400  84.309166  389.670654  0.781529\n",
       "2022-05-03  37750.453125  2783.476318  82.594147  383.475800  0.771145\n",
       "2022-05-04  39698.371094  2940.644775  86.172264  402.502655  0.896942\n",
       "2022-05-05  39718.496094  2941.800049  86.917023  402.679596  0.878779\n",
       "\n",
       "[731 rows x 5 columns]"
      ]
     },
     "execution_count": 3,
     "metadata": {},
     "output_type": "execute_result"
    }
   ],
   "source": [
    "# get 2 years of historical market data\n",
    "btc_hist = btc.history(period=\"2y\")\n",
    "eth_hist = eth.history(period=\"2y\")\n",
    "luna1_hist = luna1.history(period=\"2y\")\n",
    "bnb_hist = bnb.history(period=\"2y\")\n",
    "ada_hist = ada.history(period=\"2y\")\n",
    "\n",
    "#create empty dataframe\n",
    "\n",
    "prices = pd.DataFrame()\n",
    "\n",
    "#put only the closing price into the new 'prices' dataframe\n",
    "\n",
    "prices['btc']= btc_hist.loc[:,'Close']\n",
    "prices['eth']= eth_hist.loc[:,'Close']\n",
    "prices['luna1']= luna1_hist.loc[:,'Close']\n",
    "prices['bnb']= bnb_hist.loc[:,'Close']\n",
    "prices['ada']= ada_hist.loc[:,'Close']\n",
    "prices\n"
   ]
  },
  {
   "cell_type": "code",
   "execution_count": 4,
   "id": "1b0ec158-da5b-4355-b059-cac72ee4b2b1",
   "metadata": {},
   "outputs": [
    {
     "data": {
      "text/html": [
       "<div>\n",
       "<style scoped>\n",
       "    .dataframe tbody tr th:only-of-type {\n",
       "        vertical-align: middle;\n",
       "    }\n",
       "\n",
       "    .dataframe tbody tr th {\n",
       "        vertical-align: top;\n",
       "    }\n",
       "\n",
       "    .dataframe thead th {\n",
       "        text-align: right;\n",
       "    }\n",
       "</style>\n",
       "<table border=\"1\" class=\"dataframe\">\n",
       "  <thead>\n",
       "    <tr style=\"text-align: right;\">\n",
       "      <th></th>\n",
       "      <th>btc</th>\n",
       "      <th>eth</th>\n",
       "      <th>luna1</th>\n",
       "      <th>bnb</th>\n",
       "      <th>ada</th>\n",
       "    </tr>\n",
       "  </thead>\n",
       "  <tbody>\n",
       "    <tr>\n",
       "      <th>count</th>\n",
       "      <td>730.000000</td>\n",
       "      <td>730.000000</td>\n",
       "      <td>730.000000</td>\n",
       "      <td>730.000000</td>\n",
       "      <td>730.000000</td>\n",
       "    </tr>\n",
       "    <tr>\n",
       "      <th>mean</th>\n",
       "      <td>0.002703</td>\n",
       "      <td>0.004810</td>\n",
       "      <td>0.012060</td>\n",
       "      <td>0.006086</td>\n",
       "      <td>0.005759</td>\n",
       "    </tr>\n",
       "    <tr>\n",
       "      <th>std</th>\n",
       "      <td>0.036625</td>\n",
       "      <td>0.048260</td>\n",
       "      <td>0.089294</td>\n",
       "      <td>0.060905</td>\n",
       "      <td>0.061008</td>\n",
       "    </tr>\n",
       "    <tr>\n",
       "      <th>min</th>\n",
       "      <td>-0.137661</td>\n",
       "      <td>-0.272003</td>\n",
       "      <td>-0.385899</td>\n",
       "      <td>-0.332656</td>\n",
       "      <td>-0.260094</td>\n",
       "    </tr>\n",
       "    <tr>\n",
       "      <th>25%</th>\n",
       "      <td>-0.015303</td>\n",
       "      <td>-0.020163</td>\n",
       "      <td>-0.032941</td>\n",
       "      <td>-0.019749</td>\n",
       "      <td>-0.029063</td>\n",
       "    </tr>\n",
       "    <tr>\n",
       "      <th>50%</th>\n",
       "      <td>0.002513</td>\n",
       "      <td>0.005597</td>\n",
       "      <td>0.003589</td>\n",
       "      <td>0.002738</td>\n",
       "      <td>0.001113</td>\n",
       "    </tr>\n",
       "    <tr>\n",
       "      <th>75%</th>\n",
       "      <td>0.020362</td>\n",
       "      <td>0.031555</td>\n",
       "      <td>0.041575</td>\n",
       "      <td>0.029922</td>\n",
       "      <td>0.031518</td>\n",
       "    </tr>\n",
       "    <tr>\n",
       "      <th>max</th>\n",
       "      <td>0.187465</td>\n",
       "      <td>0.259475</td>\n",
       "      <td>0.899124</td>\n",
       "      <td>0.697604</td>\n",
       "      <td>0.322384</td>\n",
       "    </tr>\n",
       "  </tbody>\n",
       "</table>\n",
       "</div>"
      ],
      "text/plain": [
       "              btc         eth       luna1         bnb         ada\n",
       "count  730.000000  730.000000  730.000000  730.000000  730.000000\n",
       "mean     0.002703    0.004810    0.012060    0.006086    0.005759\n",
       "std      0.036625    0.048260    0.089294    0.060905    0.061008\n",
       "min     -0.137661   -0.272003   -0.385899   -0.332656   -0.260094\n",
       "25%     -0.015303   -0.020163   -0.032941   -0.019749   -0.029063\n",
       "50%      0.002513    0.005597    0.003589    0.002738    0.001113\n",
       "75%      0.020362    0.031555    0.041575    0.029922    0.031518\n",
       "max      0.187465    0.259475    0.899124    0.697604    0.322384"
      ]
     },
     "execution_count": 4,
     "metadata": {},
     "output_type": "execute_result"
    }
   ],
   "source": [
    "#compute daily return as a percentage, dropping the first observation\n",
    "daily_returns = prices.pct_change().dropna()\n",
    "daily_returns.describe()\n"
   ]
  },
  {
   "cell_type": "code",
   "execution_count": 5,
   "id": "bc35d1d2-5679-4bf3-8a22-2514ed23bdde",
   "metadata": {},
   "outputs": [
    {
     "data": {
      "text/plain": [
       "<AxesSubplot:title={'center':'Bitcoin Daily Return Distribution'}, ylabel='Frequency'>"
      ]
     },
     "execution_count": 5,
     "metadata": {},
     "output_type": "execute_result"
    },
    {
     "data": {
      "image/png": "[encoded data removed]",
      "text/plain": [
       "<Figure size 432x288 with 1 Axes>"
      ]
     },
     "metadata": {
      "needs_background": "light"
     },
     "output_type": "display_data"
    }
   ],
   "source": [
    "# Visualize distribution of bitcoin percent change in closing price using a histogram plot\n",
    "daily_returns[\"btc\"].plot.hist(title='Bitcoin Daily Return Distribution')\n"
   ]
  },
  {
   "cell_type": "code",
   "execution_count": 6,
   "id": "d84298a2-6a4f-467a-841c-1a968fba21de",
   "metadata": {},
   "outputs": [
    {
     "data": {
      "text/plain": [
       "<AxesSubplot:title={'center':'Ethereum Daily Return Distribution'}, ylabel='Frequency'>"
      ]
     },
     "execution_count": 6,
     "metadata": {},
     "output_type": "execute_result"
    },
    {
     "data": {
      "image/png": "[encoded data removed]",
      "text/plain": [
       "<Figure size 432x288 with 1 Axes>"
      ]
     },
     "metadata": {
      "needs_background": "light"
     },
     "output_type": "display_data"
    }
   ],
   "source": [
    "daily_returns[\"eth\"].plot.hist(title='Ethereum Daily Return Distribution')"
   ]
  },
  {
   "cell_type": "code",
   "execution_count": 7,
   "id": "4c50c4bf-c9a3-4032-9961-5363882628be",
   "metadata": {},
   "outputs": [
    {
     "data": {
      "text/plain": [
       "<AxesSubplot:title={'center':'Terra Daily Return Distribution'}, ylabel='Frequency'>"
      ]
     },
     "execution_count": 7,
     "metadata": {},
     "output_type": "execute_result"
    },
    {
     "data": {
      "image/png": "[encoded data removed]",
      "text/plain": [
       "<Figure size 432x288 with 1 Axes>"
      ]
     },
     "metadata": {
      "needs_background": "light"
     },
     "output_type": "display_data"
    }
   ],
   "source": [
    "daily_returns[\"luna1\"].plot.hist(title='Terra Daily Return Distribution')"
   ]
  },
  {
   "cell_type": "code",
   "execution_count": 8,
   "id": "e3d2c08c-d43f-4381-a7f7-e99284d8415b",
   "metadata": {},
   "outputs": [
    {
     "data": {
      "text/plain": [
       "<AxesSubplot:title={'center':'Binance Daily Return Distribution'}, ylabel='Frequency'>"
      ]
     },
     "execution_count": 8,
     "metadata": {},
     "output_type": "execute_result"
    },
    {
     "data": {
      "image/png": "[encoded data removed]",
      "text/plain": [
       "<Figure size 432x288 with 1 Axes>"
      ]
     },
     "metadata": {
      "needs_background": "light"
     },
     "output_type": "display_data"
    }
   ],
   "source": [
    "daily_returns[\"bnb\"].plot.hist(title='Binance Daily Return Distribution')"
   ]
  },
  {
   "cell_type": "code",
   "execution_count": 9,
   "id": "7f2b2358-29f2-4243-bb6f-a082eaf857a2",
   "metadata": {},
   "outputs": [
    {
     "data": {
      "text/plain": [
       "<AxesSubplot:title={'center':'Cardano Daily Return Distribution'}, ylabel='Frequency'>"
      ]
     },
     "execution_count": 9,
     "metadata": {},
     "output_type": "execute_result"
    },
    {
     "data": {
      "image/png": "[encoded data removed]",
      "text/plain": [
       "<Figure size 432x288 with 1 Axes>"
      ]
     },
     "metadata": {
      "needs_background": "light"
     },
     "output_type": "display_data"
    }
   ],
   "source": [
    "daily_returns[\"ada\"].plot.hist(title='Cardano Daily Return Distribution')"
   ]
  },
  {
   "cell_type": "code",
   "execution_count": null,
   "id": "937c8692-c958-4309-9f0c-0829986bc4e7",
   "metadata": {},
   "outputs": [],
   "source": []
  }
 ],
 "metadata": {
  "kernelspec": {
   "display_name": "Python 3 (ipykernel)",
   "language": "python",
   "name": "python3"
  },
  "language_info": {
   "codemirror_mode": {
    "name": "ipython",
    "version": 3
   },
   "file_extension": ".py",
   "mimetype": "text/x-python",
   "name": "python",
   "nbconvert_exporter": "python",
   "pygments_lexer": "ipython3",
   "version": "3.7.11"
  }
 },
 "nbformat": 4,
 "nbformat_minor": 5
}
